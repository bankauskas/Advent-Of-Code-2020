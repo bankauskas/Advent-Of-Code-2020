{
 "metadata": {
  "language_info": {
   "codemirror_mode": {
    "name": "ipython",
    "version": 3
   },
   "file_extension": ".py",
   "mimetype": "text/x-python",
   "name": "python",
   "nbconvert_exporter": "python",
   "pygments_lexer": "ipython3",
   "version": "3.8.5-final"
  },
  "orig_nbformat": 2,
  "kernelspec": {
   "name": "python38132bited42b5a800724593ab3a5f5bf3f9a014",
   "display_name": "Python 3.8.1 32-bit"
  }
 },
 "nbformat": 4,
 "nbformat_minor": 2,
 "cells": [
  {
   "cell_type": "code",
   "execution_count": 381,
   "metadata": {},
   "outputs": [],
   "source": [
    "import re\n",
    "import networkx as nx"
   ]
  },
  {
   "cell_type": "code",
   "execution_count": 385,
   "metadata": {
    "tags": []
   },
   "outputs": [],
   "source": [
    "dt = open('input.txt').read()\n",
    "stopwords = re.compile('(bags\\.|bag\\.|bags|bag)')\n",
    "pattern = re.compile('(\\d+)\\s([a-z]*\\s?[a-z]*)')"
   ]
  },
  {
   "cell_type": "code",
   "execution_count": 386,
   "metadata": {},
   "outputs": [],
   "source": [
    "def clean_data(dt, stopwords):\n",
    "    return stopwords.sub(\"\", dt).splitlines()\n",
    "\n",
    "    \n",
    "def extract_nodes_from_str(pattern, ls):\n",
    "    return [pattern.match(i.strip()).groups() for i in ls]"
   ]
  },
  {
   "cell_type": "code",
   "execution_count": 387,
   "metadata": {
    "tags": []
   },
   "outputs": [],
   "source": [
    "def build_directed_Graph(dt):\n",
    "    G = nx.DiGraph()\n",
    "\n",
    "    for raw in dt:\n",
    "        if 'no other' in raw:\n",
    "            x, y = raw.split('contain')\n",
    "            G.add_node(x.strip())\n",
    "        else:\n",
    "            k, v = raw.split('contain')  \n",
    "            v = extract_nodes_from_str(pattern, v.split(','))\n",
    "            for i in v:\n",
    "                G.add_weighted_edges_from([(k.strip(), i[1].strip(), int(i[0].strip()))])  \n",
    "    return G"
   ]
  },
  {
   "cell_type": "code",
   "execution_count": 388,
   "metadata": {},
   "outputs": [],
   "source": [
    "dt = clean_data(dt, stopwords)\n",
    "G = build_directed_Graph(dt)"
   ]
  },
  {
   "cell_type": "code",
   "execution_count": 368,
   "metadata": {},
   "outputs": [
    {
     "output_type": "stream",
     "name": "stdout",
     "text": [
      "4667\n"
     ]
    }
   ],
   "source": [
    "extracted_noodes = set()\n",
    "completed_nodes = set()\n",
    "acc_weigths = set()\n",
    "\n",
    "for edge in G.out_edges('shiny gold'):\n",
    "    extracted_noodes.add(edge[1])\n",
    "    acc_weigths.add((edge[1], G.get_edge_data(*edge)['weight']))\n",
    "\n",
    "def extract_edges():   \n",
    "        for node, weight in acc_weigths.copy():\n",
    "            if node not in completed_nodes and node != 'shiny gold':\n",
    "                for edge in G.out_edges(node):\n",
    "                    extracted_noodes.add(edge[1])\n",
    "                    acc_weigths.add((edge[1], weight * G.get_edge_data(*edge)['weight']))\n",
    "\n",
    "                completed_nodes.add(node) \n",
    "\n",
    "while extracted_noodes != completed_nodes:\n",
    "    extract_edges()\n",
    "\n",
    "print(sum([weight for node, weight in acc_weigths])) "
   ]
  },
  {
   "cell_type": "code",
   "execution_count": 333,
   "metadata": {
    "tags": []
   },
   "outputs": [
    {
     "output_type": "stream",
     "name": "stdout",
     "text": [
      "16695\n"
     ]
    }
   ],
   "source": [
    "# extracted_noodes = {}\n",
    "# completed_nodes = set()\n",
    "\n",
    "# for edge in G.out_edges('shiny gold'):\n",
    "#     extracted_noodes[edge[1]] =  G.get_edge_data(*edge)['weight']\n",
    "\n",
    "# def extract_edges():   \n",
    "#         for node in extracted_noodes.copy():\n",
    "#             weight = extracted_noodes[node]\n",
    "#             if node not in completed_nodes:\n",
    "#                 for edge in G.out_edges(node):\n",
    "#                     child_weight = G.get_edge_data(*edge)['weight']\n",
    "#                     if edge[1] in extracted_noodes:\n",
    "#                         extracted_noodes[edge[1]] = extracted_noodes[edge[1]] + weight * child_weight\n",
    "#                     else:\n",
    "#                         extracted_noodes[edge[1]] = weight * child_weight\n",
    "#                 completed_nodes.add(node) \n",
    "\n",
    "# while len(extracted_noodes) != len(completed_nodes):\n",
    "#     extract_edges()\n",
    "\n",
    "# print(sum(extracted_noodes.values())) "
   ]
  },
  {
   "cell_type": "code",
   "execution_count": 398,
   "metadata": {},
   "outputs": [],
   "source": [
    "def sum_of_bags(node='shiny gold'):\n",
    "    c=0 \n",
    "  \n",
    "    edges=G.out_edges(node)\n",
    "\n",
    "    if len(edges) > 0:\n",
    "\n",
    "        for _, sub_node in edges:\n",
    "            value = G.get_edge_data(_,sub_node)['weight']\n",
    "            c+=value+value*count(sub_node)\n",
    "\n",
    "    return c"
   ]
  },
  {
   "cell_type": "code",
   "execution_count": 399,
   "metadata": {},
   "outputs": [
    {
     "output_type": "stream",
     "name": "stdout",
     "text": [
      "421550\n"
     ]
    }
   ],
   "source": [
    "print(count())"
   ]
  },
  {
   "cell_type": "code",
   "execution_count": null,
   "metadata": {},
   "outputs": [],
   "source": []
  }
 ]
}